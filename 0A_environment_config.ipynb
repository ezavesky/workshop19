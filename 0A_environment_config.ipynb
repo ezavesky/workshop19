{
 "cells": [
  {
   "cell_type": "code",
   "execution_count": 1,
   "metadata": {},
   "outputs": [],
   "source": [
    "# Example of model installation.\n",
    "\n",
    "# ===============LICENSE_START=======================================================\n",
    "# Apache-2.0\n",
    "# ===================================================================================\n",
    "# Copyright (C) 2019 AT&T Intellectual Property  All rights reserved.\n",
    "# ===================================================================================\n",
    "# This software file is distributed by AT&T\n",
    "# under the Apache License, Version 2.0 (the \"License\");\n",
    "# you may not use this file except in compliance with the License.\n",
    "# You may obtain a copy of the License at\n",
    "#\n",
    "# http://www.apache.org/licenses/LICENSE-2.0\n",
    "#\n",
    "# This file is distributed on an \"AS IS\" BASIS,\n",
    "# WITHOUT WARRANTIES OR CONDITIONS OF ANY KIND, either express or implied.\n",
    "# See the License for the specific language governing permissions and\n",
    "# limitations under the License.\n",
    "# ===============LICENSE_END=========================================================\n"
   ]
  },
  {
   "cell_type": "markdown",
   "metadata": {},
   "source": [
    "# Welcome to Shared Computing\n",
    "With the advances in containerization and environment porting, it's gotten a lot easier to develop and debug from just about anywhere.  This workshop hopes to leverage those gains and will utilize [interactive notebooks](https://jupyter4edu.github.io/jupyter-edu-book/why-we-use-jupyter-notebooks.html) to demonstrate utilies and processes.\n",
    "\n",
    "## Starter Deployment (CMLP)\n",
    "Another advantage of web-based development is that you don't need to have a high-power local workstation.  Instead, utilizing a notebook server (or hub) installed within an enterprise, just point to the root, authenticate and you're ready to go.\n",
    "\n",
    "As of late March 2019, that's the approach made possible by a notebook server hosted by [CMLP](http://cmlp.web.att.com/) (common machine learning platform).  To utilize a notebook right now, follow these simple steps.\n",
    "\n",
    "1. Head to [CMLP](http://cmlp.web.att.com/)\n",
    "2. On the right side of the menu, click on `Workbench` and then `Jupyter`.  You can also try this [direct link](https://cmlp-portal.prod.sci.att.com/#/pages/jupyter) but it may not work if you haven't logged in before.\n",
    "3. Click on the button \"Launch Jupyter\"\n",
    "4. If you've launched it before, you'll jump right into a new jupyter notebook session, head to the next section called \"Install the Basics\"!\n",
    "5. If you're asked additional questions about creating a new environment, just accept the defaults and proceed.  In the worst case scenario, you will be presented with a loading screen for about 5 minutes while a new node is started.\n",
    "\n",
    "## Starter Deployment (local Jupyter)\n",
    "If you're starting from scratch on your own machine, there's a little more work to do -- but not much.  This workflow was pruned to just the basic, clear steps to get started.  Luckily, there are some great tutorials by the [Pinnacle](https://pinnacle.web.att.com/learn) project for setting up an approved environment or using [DewDrop VMs](https://wiki.web.att.com/x/y4TpOQ) if you would rather host things locally.  \n",
    "\n",
    "When you have a working conda environment, head to the next step to \"install the basics\".\n"
   ]
  },
  {
   "cell_type": "markdown",
   "metadata": {},
   "source": [
    "# Install the Basics\n",
    "The basics for automated software installation are really just [Anaconda](https://docs.anaconda.com/anaconda/install/) (a great simplification for package management) and [Jupyter](https://jupyter.org/install).  With these two configurations, you should be able to proceed to using actual scripts to do the hard work.\n",
    "\n",
    "## Clone or Copy the Source\n",
    "You're now ready to start working from the workshop's source code tree.  To do so, there are a couple of options.\n",
    "\n",
    "1. Log into [CodeCloud](https://codecloud.web.att.com/projects/ST_MLHACK19/repos/ml_workshop/browse) and clone the workshop's repo into your jupyter environment.\n",
    "> git clone ssh://git@codecloud.web.att.com:7999/st_mlhack19/ml_workshop.git\n",
    "2. Download a source/tar release of the code.  If you can access CodeCloud, it should just be a matter of [this download link](https://codecloud.web.att.com/rest/api/latest/projects/ST_MLHACK19/repos/ml_workshop/archive?format=zip) and then copying the file to your working jupyter environment.\n",
    "\n",
    "When you have the notebooks unzipped and ready to go, just start running the cells on the first file (this one) currently named `0A_envoronment_config.ipynb`.\n",
    "\n",
    "## Run the Cells Below\n",
    "Running a cell is as simple as clicking the play/run button.  Otherwise you can hit shift-enter on a single cell for it to be evaluated.\n",
    "\n",
    "The cells below will install additional [python packages](https://pypi.org/) or their often version-normalized [conda packages](https://anaconda.org/anaconda/repo) equivalent."
   ]
  },
  {
   "cell_type": "code",
   "execution_count": 2,
   "metadata": {},
   "outputs": [
    {
     "name": "stdout",
     "output_type": "stream",
     "text": [
      "Solving environment: done\n",
      "\n",
      "\n",
      "==> WARNING: A newer version of conda exists. <==\n",
      "  current version: 4.5.11\n",
      "  latest version: 4.6.11\n",
      "\n",
      "Please update conda by running\n",
      "\n",
      "    $ conda update -n base -c defaults conda\n",
      "\n",
      "\n",
      "\n",
      "## Package Plan ##\n",
      "\n",
      "  environment location: /n/docroot5/projects/cognita/conda/envs/acumos36\n",
      "\n",
      "  added / updated specs: \n",
      "    - libprotobuf\n",
      "\n",
      "\n",
      "The following packages will be downloaded:\n",
      "\n",
      "    package                    |            build\n",
      "    ---------------------------|-----------------\n",
      "    libprotobuf-3.6.1          |       hd408876_0         4.1 MB  anaconda\n",
      "    openssl-1.1.1              |       h7b6447c_0         5.0 MB  anaconda\n",
      "    protobuf-3.6.1             |   py36he6710b0_0         616 KB  anaconda\n",
      "    certifi-2019.3.9           |           py36_0         155 KB  anaconda\n",
      "    ca-certificates-2019.1.23  |                0         126 KB  anaconda\n",
      "    mysql-connector-python-2.0.4|           py36_0         176 KB  anaconda\n",
      "    ------------------------------------------------------------\n",
      "                                           Total:        10.1 MB\n",
      "\n",
      "The following packages will be UPDATED:\n",
      "\n",
      "    ca-certificates:        2019.1.23-0           --> 2019.1.23-0          anaconda\n",
      "    certifi:                2019.3.9-py36_0       --> 2019.3.9-py36_0      anaconda\n",
      "    libprotobuf:            3.6.0-hdbcaa40_0      --> 3.6.1-hd408876_0     anaconda\n",
      "    openssl:                1.1.1-h7b6447c_0      --> 1.1.1-h7b6447c_0     anaconda\n",
      "    protobuf:               3.6.0-py36hf484d3e_0  --> 3.6.1-py36he6710b0_0 anaconda\n",
      "\n",
      "The following packages will be DOWNGRADED:\n",
      "\n",
      "    mysql-connector-python: 8.0.12-py36haf6c83e_0 --> 2.0.4-py36_0         anaconda\n",
      "\n",
      "\n",
      "Downloading and Extracting Packages\n",
      "libprotobuf-3.6.1    | 4.1 MB    | ##################################### | 100% \n",
      "openssl-1.1.1        | 5.0 MB    | ##################################### | 100% \n",
      "protobuf-3.6.1       | 616 KB    | ##################################### | 100% \n",
      "certifi-2019.3.9     | 155 KB    | ##################################### | 100% \n",
      "ca-certificates-2019 | 126 KB    | ##################################### | 100% \n",
      "mysql-connector-pyth | 176 KB    | ##################################### | 100% \n",
      "Preparing transaction: done\n",
      "Verifying transaction: done\n",
      "Executing transaction: done\n",
      "Requirement already satisfied: pandas in /n/docroot5/projects/cognita/conda/envs/acumos36/lib/python3.6/site-packages (from -r requirements.txt (line 1)) (0.24.2)\n",
      "Requirement already satisfied: dill in /n/docroot5/projects/cognita/conda/envs/acumos36/lib/python3.6/site-packages (from -r requirements.txt (line 2)) (0.2.7.1)\n",
      "Requirement already satisfied: sklearn in /n/docroot5/projects/cognita/conda/envs/acumos36/lib/python3.6/site-packages (from -r requirements.txt (line 3)) (0.0)\n",
      "Requirement already satisfied: acumos in /n/docroot5/projects/cognita/conda/envs/acumos36/lib/python3.6/site-packages (from -r requirements.txt (line 4)) (0.7.0)\n",
      "Requirement already satisfied: matplotlib in /n/docroot5/projects/cognita/conda/envs/acumos36/lib/python3.6/site-packages (from -r requirements.txt (line 5)) (2.2.2)\n",
      "Requirement already satisfied: requests in /n/docroot5/projects/cognita/conda/envs/acumos36/lib/python3.6/site-packages (from -r requirements.txt (line 6)) (2.18.4)\n",
      "Requirement already satisfied: pytz>=2011k in /n/docroot5/projects/cognita/conda/envs/acumos36/lib/python3.6/site-packages (from pandas->-r requirements.txt (line 1)) (2018.5)\n",
      "Requirement already satisfied: numpy>=1.12.0 in /n/docroot5/projects/cognita/conda/envs/acumos36/lib/python3.6/site-packages (from pandas->-r requirements.txt (line 1)) (1.16.2)\n",
      "Requirement already satisfied: python-dateutil>=2.5.0 in /n/docroot5/projects/cognita/conda/envs/acumos36/lib/python3.6/site-packages (from pandas->-r requirements.txt (line 1)) (2.7.3)\n",
      "Requirement already satisfied: scikit-learn in /n/docroot5/projects/cognita/conda/envs/acumos36/lib/python3.6/site-packages (from sklearn->-r requirements.txt (line 3)) (0.20.3)\n",
      "Requirement already satisfied: typing in /n/docroot5/projects/cognita/conda/envs/acumos36/lib/python3.6/site-packages (from acumos->-r requirements.txt (line 4)) (3.6.4)\n",
      "Requirement already satisfied: appdirs in /n/docroot5/projects/cognita/conda/envs/acumos36/lib/python3.6/site-packages (from acumos->-r requirements.txt (line 4)) (1.4.3)\n",
      "Requirement already satisfied: filelock in /n/docroot5/projects/cognita/conda/envs/acumos36/lib/python3.6/site-packages (from acumos->-r requirements.txt (line 4)) (3.0.4)\n",
      "Requirement already satisfied: protobuf in /n/docroot5/projects/cognita/conda/envs/acumos36/lib/python3.6/site-packages (from acumos->-r requirements.txt (line 4)) (3.6.1)\n",
      "Requirement already satisfied: six>=1.10 in /n/docroot5/projects/cognita/conda/envs/acumos36/lib/python3.6/site-packages (from matplotlib->-r requirements.txt (line 5)) (1.11.0)\n",
      "Requirement already satisfied: kiwisolver>=1.0.1 in /n/docroot5/projects/cognita/conda/envs/acumos36/lib/python3.6/site-packages (from matplotlib->-r requirements.txt (line 5)) (1.0.1)\n",
      "Requirement already satisfied: cycler>=0.10 in /n/docroot5/projects/cognita/conda/envs/acumos36/lib/python3.6/site-packages (from matplotlib->-r requirements.txt (line 5)) (0.10.0)\n",
      "Requirement already satisfied: pyparsing!=2.0.4,!=2.1.2,!=2.1.6,>=2.0.1 in /n/docroot5/projects/cognita/conda/envs/acumos36/lib/python3.6/site-packages (from matplotlib->-r requirements.txt (line 5)) (2.2.0)\n",
      "Requirement already satisfied: certifi>=2017.4.17 in /n/docroot5/projects/cognita/conda/envs/acumos36/lib/python3.6/site-packages (from requests->-r requirements.txt (line 6)) (2019.3.9)\n",
      "Requirement already satisfied: chardet<3.1.0,>=3.0.2 in /n/docroot5/projects/cognita/conda/envs/acumos36/lib/python3.6/site-packages (from requests->-r requirements.txt (line 6)) (3.0.4)\n",
      "Requirement already satisfied: idna<2.7,>=2.5 in /n/docroot5/projects/cognita/conda/envs/acumos36/lib/python3.6/site-packages (from requests->-r requirements.txt (line 6)) (2.6)\n",
      "Requirement already satisfied: urllib3<1.23,>=1.21.1 in /n/docroot5/projects/cognita/conda/envs/acumos36/lib/python3.6/site-packages (from requests->-r requirements.txt (line 6)) (1.22)\n",
      "Requirement already satisfied: scipy>=0.13.3 in /n/docroot5/projects/cognita/conda/envs/acumos36/lib/python3.6/site-packages (from scikit-learn->sklearn->-r requirements.txt (line 3)) (1.2.1)\n",
      "Requirement already satisfied: setuptools in /n/docroot5/projects/cognita/conda/envs/acumos36/lib/python3.6/site-packages (from protobuf->acumos->-r requirements.txt (line 4)) (40.4.3)\n",
      "\u001b[31mcheroot 6.5.2 requires backports.functools-lru-cache, which is not installed.\u001b[0m\n",
      "\u001b[31mtensorflow 1.11.0 has requirement setuptools<=39.1.0, but you'll have setuptools 40.4.3 which is incompatible.\u001b[0m\n",
      "\u001b[33mYou are using pip version 10.0.1, however version 19.0.3 is available.\n",
      "You should consider upgrading via the 'pip install --upgrade pip' command.\u001b[0m\n"
     ]
    }
   ],
   "source": [
    "# for internal AT&T users, you'll need to set a proxy so that you can fetch packages from afar\n",
    "import os\n",
    "os.environ[\"http_proxy\"] = \"http://one.proxy.att.com:8080\"\n",
    "os.environ[\"https_proxy\"] = \"http://one.proxy.att.com:8080\"\n",
    "\n",
    "# Okay, let's update your conda environment\n",
    "!conda install -c anaconda libprotobuf -y\n",
    "\n",
    "!pip install -r requirements.txt"
   ]
  },
  {
   "cell_type": "markdown",
   "metadata": {},
   "source": [
    "## Retrieving the data\n",
    "Normally data retrieval and placement may be a little harder than this, but for now we'll just pull from an internal source in this script so that your evironment should be ready to go!  To learn more about these files and the dataset, check out the data/README.md file in this repo!"
   ]
  },
  {
   "cell_type": "code",
   "execution_count": 3,
   "metadata": {},
   "outputs": [
    {
     "name": "stdout",
     "output_type": "stream",
     "text": [
      "--2019-04-06 21:17:18--  http://snap.stanford.edu/data/amazon/productGraph/categoryFiles/reviews_Office_Products_10.json.gz\n",
      "Resolving one.proxy.att.com (one.proxy.att.com)... 135.28.13.11\n",
      "Connecting to one.proxy.att.com (one.proxy.att.com)|135.28.13.11|:8080... connected.\n",
      "Proxy request sent, awaiting response... 200 OK\n",
      "Length: 9358401 (8.9M) [application/x-gzip]\n",
      "Saving to: ‘data/reviews_Office_Products_10.json.gz’\n",
      "\n",
      "100%[======================================>] 9,358,401   1.00MB/s   in 9.1s   \n",
      "\n",
      "2019-04-06 21:17:28 (1003 KB/s) - ‘data/reviews_Office_Products_10.json.gz’ saved [9358401/9358401]\n",
      "\n",
      "--2019-04-06 21:17:28--  http://snap.stanford.edu/data/amazon/productGraph/categoryFiles/meta_Office_Products.json.gz\n",
      "Resolving one.proxy.att.com (one.proxy.att.com)... 135.28.13.11\n",
      "Connecting to one.proxy.att.com (one.proxy.att.com)|135.28.13.11|:8080... connected.\n",
      "Proxy request sent, awaiting response... 200 OK\n",
      "Length: 47605216 (45M) [application/x-gzip]\n",
      "Saving to: ‘data/meta_Office_Products.json.gz’\n",
      "\n",
      "100%[======================================>] 47,605,216   918KB/s   in 48s    \n",
      "\n",
      "2019-04-06 21:18:16 (967 KB/s) - ‘data/meta_Office_Products.json.gz’ saved [47605216/47605216]\n",
      "\n"
     ]
    }
   ],
   "source": [
    "# grab the main \"reviews\" file\n",
    "!wget \"http://snap.stanford.edu/data/amazon/productGraph/categoryFiles/reviews_Office_Products_10.json.gz\" -O \"data/reviews_Office_Products_10.json.gz\"\n",
    "\n",
    "# grab the main \"metadata\" file\n",
    "!wget \"http://snap.stanford.edu/data/amazon/productGraph/categoryFiles/meta_Office_Products.json.gz\" -O \"data/meta_Office_Products.json.gz\"\n"
   ]
  },
  {
   "cell_type": "markdown",
   "metadata": {},
   "source": [
    "# All Done!\n",
    "Not too bad, right? Well, this should now have all of the software packages you need to run the rest of the scripts in this demo.  Let's move on to the next notebook!"
   ]
  },
  {
   "cell_type": "code",
   "execution_count": null,
   "metadata": {},
   "outputs": [],
   "source": []
  }
 ],
 "metadata": {
  "kernelspec": {
   "display_name": "Python 3",
   "language": "python",
   "name": "python3"
  },
  "language_info": {
   "codemirror_mode": {
    "name": "ipython",
    "version": 3
   },
   "file_extension": ".py",
   "mimetype": "text/x-python",
   "name": "python",
   "nbconvert_exporter": "python",
   "pygments_lexer": "ipython3",
   "version": "3.6.7"
  }
 },
 "nbformat": 4,
 "nbformat_minor": 2
}
