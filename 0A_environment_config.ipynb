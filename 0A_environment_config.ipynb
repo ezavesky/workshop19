{
 "cells": [
  {
   "cell_type": "code",
   "execution_count": 1,
   "metadata": {},
   "outputs": [],
   "source": [
    "# Example of model installation.\n",
    "\n",
    "# ===============LICENSE_START=======================================================\n",
    "# Apache-2.0\n",
    "# ===================================================================================\n",
    "# Copyright (C) 2019 AT&T Intellectual Property  All rights reserved.\n",
    "# ===================================================================================\n",
    "# This software file is distributed by AT&T\n",
    "# under the Apache License, Version 2.0 (the \"License\");\n",
    "# you may not use this file except in compliance with the License.\n",
    "# You may obtain a copy of the License at\n",
    "#\n",
    "# http://www.apache.org/licenses/LICENSE-2.0\n",
    "#\n",
    "# This file is distributed on an \"AS IS\" BASIS,\n",
    "# WITHOUT WARRANTIES OR CONDITIONS OF ANY KIND, either express or implied.\n",
    "# See the License for the specific language governing permissions and\n",
    "# limitations under the License.\n",
    "# ===============LICENSE_END=========================================================\n"
   ]
  },
  {
   "cell_type": "markdown",
   "metadata": {},
   "source": [
    "# Welcome to Shared Computing\n",
    "With the advances in containerization and environment porting, it's gotten a lot easier to develop and debug from just about anywhere.  This workshop hopes to leverage those gains and will utilize [interactive notebooks](https://jupyter4edu.github.io/jupyter-edu-book/why-we-use-jupyter-notebooks.html) to demonstrate utilies and processes.\n",
    "\n",
    "## Starter Deployment (CMLP)\n",
    "Another advantage of web-based development is that you don't need to have a high-power local workstation.  Instead, utilizing a notebook server (or hub) installed within an enterprise, just point to the root, authenticate and you're ready to go.\n",
    "\n",
    "As of late March 2019, that's the approach made possible by a notebook server hosted by [CMLP](http://cmlp.web.att.com/) (common machine learning platform).  To utilize a notebook right now, follow these simple steps.\n",
    "\n",
    "1. Head to [CMLP](http://cmlp.web.att.com/)\n",
    "2. On the right side of the menu, click on `Workbench` and then `Jupyter`.  You can also try this [direct link](https://cmlp-portal.prod.sci.att.com/#/pages/jupyter) but it may not work if you haven't logged in before.\n",
    "3. Click on the button \"Launch Jupyter\"\n",
    "4. If you've launched it before, you'll jump right into a new jupyter notebook session, head to the next section called \"Install the Basics\"!\n",
    "5. If you're asked additional questions about creating a new environment, just accept the defaults and proceed.  In the worst case scenario, you will be presented with a loading screen for about 5 minutes while a new node is started.\n",
    "\n",
    "## Starter Deployment (local Jupyter)\n",
    "If you're starting from scratch on your own machine, there's a little more work to do -- but not much.  This workflow was pruned to just the basic, clear steps to get started.  Luckily, there are some great tutorials by the [Pinnacle](https://pinnacle.web.att.com/learn) project for setting up an approved environment or using [DewDrop VMs](https://wiki.web.att.com/x/y4TpOQ) if you would rather host things locally.  \n",
    "\n",
    "When you have a working conda environment, head to the next step to \"install the basics\".\n"
   ]
  },
  {
   "cell_type": "markdown",
   "metadata": {},
   "source": [
    "# Install the Basics\n",
    "The basics for automated software installation are really just [Anaconda](https://docs.anaconda.com/anaconda/install/) (a great simplification for package management) and [Jupyter](https://jupyter.org/install).  With these two configurations, you should be able to proceed to using actual scripts to do the hard work.\n",
    "\n",
    "## Clone or Copy the Source\n",
    "You're now ready to start working from the workshop's source code tree.  To do so, there are a couple of options.\n",
    "\n",
    "1. Log into [CodeCloud](https://codecloud.web.att.com/projects/ST_MLHACK19/repos/ml_workshop/browse) and clone the workshop's repo into your jupyter environment.\n",
    "> git clone ssh://git@codecloud.web.att.com:7999/st_mlhack19/ml_workshop.git\n",
    "2. Download a source/tar release of the code.  If you can access CodeCloud, it should just be a matter of [this download link](https://codecloud.web.att.com/rest/api/latest/projects/ST_MLHACK19/repos/ml_workshop/archive?format=zip) and then copying the file to your working jupyter environment.\n",
    "\n",
    "When you have the notebooks unzipped and ready to go, just start running the cells on the first file (this one) currently named `0A_envoronment_config.ipynb`.\n",
    "\n",
    "## Run the Cells Below\n",
    "Running a cell is as simple as clicking the play/run button.  Otherwise you can hit shift-enter on a single cell for it to be evaluated.\n",
    "\n",
    "The cells below will install additional [python packages](https://pypi.org/) or their often version-normalized [conda packages](https://anaconda.org/anaconda/repo) equivalent."
   ]
  },
  {
   "cell_type": "code",
   "execution_count": 2,
   "metadata": {},
   "outputs": [
    {
     "name": "stdout",
     "output_type": "stream",
     "text": [
      "Fetching package metadata .............\n",
      "Solving package specifications: .\n",
      "\n",
      "Package plan for installation in environment /Users/quinone/anaconda/envs/cognita36:\n",
      "\n",
      "The following packages will be UPDATED:\n",
      "\n",
      "    libprotobuf:            3.6.0-hd9629dc_0      --> 3.6.1-hd9629dc_0     anaconda\n",
      "    protobuf:               3.6.0-py36h0a44026_0  --> 3.6.1-py36h0a44026_0 anaconda\n",
      "\n",
      "The following packages will be SUPERSEDED by a higher-priority channel:\n",
      "\n",
      "    mysql-connector-python: 8.0.12-py36h3febbb0_0 --> 2.0.4-py36_0         anaconda\n",
      "\n",
      "libprotobuf-3. 100% |################################| Time: 0:00:05 686.03 kB/s       | ETA:  0:00:02 666.61 kB/s\n",
      "mysql-connecto 100% |################################| Time: 0:00:00 905.60 kB/s\n",
      "protobuf-3.6.1 100% |################################| Time: 0:00:00 732.81 kB/s\n",
      "Requirement already satisfied: pandas in /Users/quinone/anaconda/envs/cognita36/lib/python3.6/site-packages (from -r requirements.txt (line 1)) (0.24.2)\n",
      "Requirement already satisfied: dill in /Users/quinone/anaconda/envs/cognita36/lib/python3.6/site-packages (from -r requirements.txt (line 2)) (0.2.7.1)\n",
      "Requirement already satisfied: sklearn in /Users/quinone/anaconda/envs/cognita36/lib/python3.6/site-packages (from -r requirements.txt (line 3)) (0.0)\n",
      "Requirement already satisfied: acumos in /Users/quinone/anaconda/envs/cognita36/lib/python3.6/site-packages (from -r requirements.txt (line 4)) (0.7.0)\n",
      "Requirement already satisfied: python-dateutil>=2.5.0 in /Users/quinone/anaconda/envs/cognita36/lib/python3.6/site-packages (from pandas->-r requirements.txt (line 1)) (2.7.3)\n",
      "Requirement already satisfied: pytz>=2011k in /Users/quinone/anaconda/envs/cognita36/lib/python3.6/site-packages (from pandas->-r requirements.txt (line 1)) (2018.5)\n",
      "Requirement already satisfied: numpy>=1.12.0 in /Users/quinone/anaconda/envs/cognita36/lib/python3.6/site-packages (from pandas->-r requirements.txt (line 1)) (1.15.3)\n",
      "Requirement already satisfied: scikit-learn in /Users/quinone/anaconda/envs/cognita36/lib/python3.6/site-packages (from sklearn->-r requirements.txt (line 3)) (0.20.0)\n",
      "Requirement already satisfied: typing in /Users/quinone/anaconda/envs/cognita36/lib/python3.6/site-packages (from acumos->-r requirements.txt (line 4)) (3.6.6)\n",
      "Requirement already satisfied: appdirs in /Users/quinone/anaconda/envs/cognita36/lib/python3.6/site-packages (from acumos->-r requirements.txt (line 4)) (1.4.3)\n",
      "Requirement already satisfied: filelock in /Users/quinone/anaconda/envs/cognita36/lib/python3.6/site-packages (from acumos->-r requirements.txt (line 4)) (3.0.6)\n",
      "Requirement already satisfied: protobuf in /Users/quinone/anaconda/envs/cognita36/lib/python3.6/site-packages (from acumos->-r requirements.txt (line 4)) (3.6.1)\n",
      "Requirement already satisfied: requests in /Users/quinone/anaconda/envs/cognita36/lib/python3.6/site-packages (from acumos->-r requirements.txt (line 4)) (2.19.1)\n",
      "Requirement already satisfied: six>=1.5 in /Users/quinone/anaconda/envs/cognita36/lib/python3.6/site-packages (from python-dateutil>=2.5.0->pandas->-r requirements.txt (line 1)) (1.11.0)\n",
      "Requirement already satisfied: scipy>=0.13.3 in /Users/quinone/anaconda/envs/cognita36/lib/python3.6/site-packages (from scikit-learn->sklearn->-r requirements.txt (line 3)) (1.1.0)\n",
      "Requirement already satisfied: setuptools in /Users/quinone/anaconda/envs/cognita36/lib/python3.6/site-packages (from protobuf->acumos->-r requirements.txt (line 4)) (40.4.3)\n",
      "Requirement already satisfied: idna<2.8,>=2.5 in /Users/quinone/anaconda/envs/cognita36/lib/python3.6/site-packages (from requests->acumos->-r requirements.txt (line 4)) (2.7)\n",
      "Requirement already satisfied: urllib3<1.24,>=1.21.1 in /Users/quinone/anaconda/envs/cognita36/lib/python3.6/site-packages (from requests->acumos->-r requirements.txt (line 4)) (1.23)\n",
      "Requirement already satisfied: certifi>=2017.4.17 in /Users/quinone/anaconda/envs/cognita36/lib/python3.6/site-packages (from requests->acumos->-r requirements.txt (line 4)) (2018.10.15)\n",
      "Requirement already satisfied: chardet<3.1.0,>=3.0.2 in /Users/quinone/anaconda/envs/cognita36/lib/python3.6/site-packages (from requests->acumos->-r requirements.txt (line 4)) (3.0.4)\n"
     ]
    }
   ],
   "source": [
    "# for internal AT&T users, you'll need to set a proxy so that you can fetch packages from afar\n",
    "import os\n",
    "os.environ[\"http_proxy\"] = \"http://one.proxy.att.com:8080\"\n",
    "os.environ[\"https_proxy\"] = \"http://one.proxy.att.com:8080\"\n",
    "\n",
    "# Okay, let's update your conda environment\n",
    "!conda install -c anaconda libprotobuf -y\n",
    "\n",
    "!pip install -r requirements.txt"
   ]
  },
  {
   "cell_type": "markdown",
   "metadata": {},
   "source": [
    "# All Done!\n",
    "Not too bad, right? Well, this should now have all of the software packages you need to run the rest of the scripts in this demo.  Let's move on to the next notebook!"
   ]
  },
  {
   "cell_type": "code",
   "execution_count": null,
   "metadata": {},
   "outputs": [],
   "source": []
  }
 ],
 "metadata": {
  "kernelspec": {
   "display_name": "Python 3",
   "language": "python",
   "name": "python3"
  },
  "language_info": {
   "codemirror_mode": {
    "name": "ipython",
    "version": 3
   },
   "file_extension": ".py",
   "mimetype": "text/x-python",
   "name": "python",
   "nbconvert_exporter": "python",
   "pygments_lexer": "ipython3",
   "version": "3.6.6"
  }
 },
 "nbformat": 4,
 "nbformat_minor": 2
}
