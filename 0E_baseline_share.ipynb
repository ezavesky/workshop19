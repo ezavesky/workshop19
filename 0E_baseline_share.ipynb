{
 "cells": [
  {
   "cell_type": "code",
   "execution_count": 7,
   "metadata": {},
   "outputs": [],
   "source": [
    "# Example of simple model push to Acumos/CMLP\n",
    "\n",
    "# ===============LICENSE_START=======================================================\n",
    "# Apache-2.0\n",
    "# ===================================================================================\n",
    "# Copyright (C) 2019 AT&T Intellectual Property  All rights reserved.\n",
    "# ===================================================================================\n",
    "# This software file is distributed by AT&T\n",
    "# under the Apache License, Version 2.0 (the \"License\");\n",
    "# you may not use this file except in compliance with the License.\n",
    "# You may obtain a copy of the License at\n",
    "#\n",
    "# http://www.apache.org/licenses/LICENSE-2.0\n",
    "#\n",
    "# This file is distributed on an \"AS IS\" BASIS,\n",
    "# WITHOUT WARRANTIES OR CONDITIONS OF ANY KIND, either express or implied.\n",
    "# See the License for the specific language governing permissions and\n",
    "# limitations under the License.\n",
    "# ===============LICENSE_END=========================================================\n"
   ]
  },
  {
   "cell_type": "code",
   "execution_count": 8,
   "metadata": {},
   "outputs": [],
   "source": [
    "import numpy as np\n",
    "import pandas as pd\n",
    "import os,sys,shutil  # file checks\n",
    "import dill as pickle   # serialize functions and data as compressed binary \n",
    "import gzip  # compression \n",
    "import yaml   # configuration file\n",
    "import time  # time tracking\n",
    "\n",
    "from acumos.modeling import Model, List, Dict, create_namedtuple, create_dataframe\n",
    "from acumos.session import AcumosSession, Requirements\n",
    "\n",
    "# load our configutaion\n",
    "config_path = 'config.yaml'\n",
    "if not os.path.isfile(config_path):\n",
    "    print(\"Sorry, can't find the configuration file {}, aborting.\".format(config_path))\n",
    "    sys.exit(-1)\n",
    "config = yaml.safe_load(open(config_path))"
   ]
  },
  {
   "cell_type": "code",
   "execution_count": 9,
   "metadata": {},
   "outputs": [
    {
     "name": "stdout",
     "output_type": "stream",
     "text": [
      "['helpful', 'reviewText', 'summary', 'unixReviewTime', 'categories', 'description']\n",
      "[dtype('O'), dtype('O'), dtype('O'), dtype('int64'), dtype('O'), dtype('O')]\n",
      "<class 'acumos.modeling.ReviewDataFrame'>\n"
     ]
    }
   ],
   "source": [
    "## PART 1 - load models and dump to disk \n",
    "# https://pypi.org/project/acumos/#using-dataframes-with-scikit-learn\n",
    "\n",
    "# load our models\n",
    "with gzip.open(config[\"path\"][\"model_preproc\"], 'rb') as f:\n",
    "    etl = pickle.load(f)\n",
    "with gzip.open(config[\"path\"][\"model_classifier\"], 'rb') as f:\n",
    "    models = pickle.load(f)\n",
    "\n",
    "# here, an appropriate NamedTuple type is inferred from a pandas DataFrame\n",
    "print(list(etl[\"fn_input\"].columns))\n",
    "print(list(etl[\"fn_input\"].dtypes))\n",
    "\n",
    "ReviewDataFrame = create_namedtuple('ReviewDataFrame', \n",
    "    [('helpful', List[int]), (\"reviewText\", str), (\"summary\", str),\n",
    "     (\"unixReviewTime\", int), (\"categories\", List[str]), (\"description\", str)])\n",
    "print(ReviewDataFrame)\n",
    "# ClassifyDataFrame = create_dataframe('ReviewDataFrame', etl[\"fn_input\"])\n",
    "\n",
    "def classify_review(df: ReviewDataFrame) -> List[int]:\n",
    "    '''Returns an array of review classifications'''\n",
    "    _, X_etl = etl[\"fn_preproc\"](etl, df)  # do classification, don't modify our model\n",
    "    X = np.column_stack(df)\n",
    "    return clf.predict(X)\n",
    "\n",
    "model = Model(classify=classify_review)\n",
    "\n"
   ]
  },
  {
   "cell_type": "code",
   "execution_count": 10,
   "metadata": {},
   "outputs": [],
   "source": [
    "# create model so that we can run it locally\n",
    "session = AcumosSession( config[\"publish\"][\"url_model\"],  config[\"publish\"][\"url_auth\"])\n",
    "path_dump = os.path.join('data', config[\"publish\"][\"name_model2\"])\n",
    "if os.path.exists(path_dump):\n",
    "    shutil.rmtree(path_dump)\n",
    "session.dump(model, config[\"publish\"][\"name_model2\"], 'data')  # creates ~/<name_publish>"
   ]
  },
  {
   "cell_type": "code",
   "execution_count": 6,
   "metadata": {},
   "outputs": [
    {
     "name": "stderr",
     "output_type": "stream",
     "text": [
      "[WARNING] acumos.session : Provided `push_api` API http://acumos.research.att.com:8090/onboarding-app/v2/models does not begin with 'https'. Your password and token are visible in plaintext!\n",
      "[WARNING] acumos.session : Provided `auth_api` API http://acumos.research.att.com:8090/onboarding-app/v2/auth does not begin with 'https'. Your password and token are visible in plaintext!\n",
      "[INFO] acumos.session : Model pushed successfully to http://acumos.research.att.com:8090/onboarding-app/v2/models\n"
     ]
    },
    {
     "ename": "TypeError",
     "evalue": "unsupported operand type(s) for -: 'float' and 'module'",
     "output_type": "error",
     "traceback": [
      "\u001b[0;31m--------------------------------------------------------------------------\u001b[0m",
      "\u001b[0;31mTypeError\u001b[0m                                Traceback (most recent call last)",
      "\u001b[0;32m<ipython-input-6-ea727764fcd1>\u001b[0m in \u001b[0;36m<module>\u001b[0;34m\u001b[0m\n\u001b[1;32m      9\u001b[0m \u001b[0mtime_start\u001b[0m \u001b[0;34m=\u001b[0m \u001b[0mtime\u001b[0m\u001b[0;34m.\u001b[0m\u001b[0mtime\u001b[0m\u001b[0;34m(\u001b[0m\u001b[0;34m)\u001b[0m\u001b[0;34m\u001b[0m\u001b[0m\n\u001b[1;32m     10\u001b[0m \u001b[0msession\u001b[0m\u001b[0;34m.\u001b[0m\u001b[0mpush\u001b[0m\u001b[0;34m(\u001b[0m\u001b[0mmodel\u001b[0m\u001b[0;34m,\u001b[0m \u001b[0mconfig\u001b[0m\u001b[0;34m[\u001b[0m\u001b[0;34m\"publish\"\u001b[0m\u001b[0;34m]\u001b[0m\u001b[0;34m[\u001b[0m\u001b[0;34m\"name_model2\"\u001b[0m\u001b[0;34m]\u001b[0m\u001b[0;34m,\u001b[0m \u001b[0mreqs\u001b[0m\u001b[0;34m)\u001b[0m\u001b[0;34m\u001b[0m\u001b[0m\n\u001b[0;32m---> 11\u001b[0;31m \u001b[0mprint\u001b[0m\u001b[0;34m(\u001b[0m\u001b[0;34m\"Model push time... {:0.3f} sec\"\u001b[0m\u001b[0;34m.\u001b[0m\u001b[0mformat\u001b[0m\u001b[0;34m(\u001b[0m\u001b[0mtime\u001b[0m\u001b[0;34m.\u001b[0m\u001b[0mtime\u001b[0m\u001b[0;34m(\u001b[0m\u001b[0;34m)\u001b[0m\u001b[0;34m-\u001b[0m\u001b[0mtime\u001b[0m\u001b[0;34m)\u001b[0m\u001b[0;34m)\u001b[0m\u001b[0;34m\u001b[0m\u001b[0m\n\u001b[0m",
      "\u001b[0;31mTypeError\u001b[0m: unsupported operand type(s) for -: 'float' and 'module'"
     ]
    }
   ],
   "source": [
    "## PART 2 - publish models\n",
    "os.environ['ACUMOS_TOKEN'] = config[\"publish\"][\"api_token\"] # visible in this process + all children\n",
    "\n",
    "# just grab the local scripts for requirements, look at the URL below for more examples\n",
    "#    of complicated requirements  - https://pypi.org/project/acumos/#declaring-requirements\n",
    "reqs = Requirements()\n",
    "\n",
    "# using the AcumosSession created earlier:\n",
    "time_start = time.time()\n",
    "session.push(model, config[\"publish\"][\"name_model2\"], reqs)\n",
    "print(\"Model push time... {:0.3f} sec\".format(time.time()-time_start))\n"
   ]
  },
  {
   "cell_type": "code",
   "execution_count": null,
   "metadata": {},
   "outputs": [],
   "source": []
  }
 ],
 "metadata": {
  "kernelspec": {
   "display_name": "Python 3",
   "language": "python",
   "name": "python3"
  },
  "language_info": {
   "codemirror_mode": {
    "name": "ipython",
    "version": 3
   },
   "file_extension": ".py",
   "mimetype": "text/x-python",
   "name": "python",
   "nbconvert_exporter": "python",
   "pygments_lexer": "ipython3",
   "version": "3.6.6"
  }
 },
 "nbformat": 4,
 "nbformat_minor": 2
}
