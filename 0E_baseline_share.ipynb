{
 "cells": [
  {
   "cell_type": "code",
   "execution_count": null,
   "metadata": {},
   "outputs": [],
   "source": [
    "# Example of simple model push to Acumos/CMLP\n",
    "\n",
    "# ===============LICENSE_START=======================================================\n",
    "# Apache-2.0\n",
    "# ===================================================================================\n",
    "# Copyright (C) 2019 AT&T Intellectual Property  All rights reserved.\n",
    "# ===================================================================================\n",
    "# This software file is distributed by AT&T\n",
    "# under the Apache License, Version 2.0 (the \"License\");\n",
    "# you may not use this file except in compliance with the License.\n",
    "# You may obtain a copy of the License at\n",
    "#\n",
    "# http://www.apache.org/licenses/LICENSE-2.0\n",
    "#\n",
    "# This file is distributed on an \"AS IS\" BASIS,\n",
    "# WITHOUT WARRANTIES OR CONDITIONS OF ANY KIND, either express or implied.\n",
    "# See the License for the specific language governing permissions and\n",
    "# limitations under the License.\n",
    "# ===============LICENSE_END=========================================================\n"
   ]
  },
  {
   "cell_type": "code",
   "execution_count": null,
   "metadata": {},
   "outputs": [],
   "source": [
    "import numpy as np\n",
    "import pandas as pd\n",
    "import os,sys,shutil  # file checks\n",
    "import dill as pickle   # serialize functions and data as compressed binary \n",
    "import gzip  # compression \n",
    "import yaml   # configuration file\n",
    "import time  # time tracking\n",
    "\n",
    "from acumos.modeling import Model, List, Dict, create_namedtuple, create_dataframe\n",
    "from acumos.session import AcumosSession, Requirements\n",
    "\n",
    "# load our configutaion\n",
    "config_path = 'config.yaml'\n",
    "if not os.path.isfile(config_path):\n",
    "    print(\"Sorry, can't find the configuration file {}, aborting.\".format(config_path))\n",
    "    sys.exit(-1)\n",
    "config = yaml.safe_load(open(config_path))"
   ]
  },
  {
   "cell_type": "markdown",
   "metadata": {},
   "source": [
    "# Model Prototype Definition\n",
    "In this flavor of model wrapping, you can name the function whatever you want and create the input variable pattern that best matches your model's needs.\n",
    "\n",
    "* **API**: input of a dataframe output of a series of floats\n",
    "\n",
    "> def classify_review(df: ReviewDataFrame) -> ReviewPredictions:\n",
    "\n",
    "* **input**: a data frame of revie whelp, a few text fields (review, summary, description), and the categories\n",
    "\n",
    "> ReviewDataFrame = create_namedtuple('ReviewDataFrame', \n",
    "    [('helpful', List[int]), (\"reviewText\", str), (\"summary\", str),\n",
    "     (\"unixReviewTime\", int), (\"categories\", List[str]), (\"description\", str)])\n",
    "\n",
    "* **output**: a series of floating point values associated with learned model classes/targets\n",
    "\n",
    "> ReviewPredictions = create_namedtuple(\n",
    "    'ReviewPredictions', [(\"prob{}\".format(n), float) for n in models[\"best\"].classes_])\n",
    "\n",
    "\n",
    "## Dynamically generating the model prototype\n",
    "When you save a model to disk (or push it to the cloud), you are saving a prototype for use.  In fact, one of the steps we'll use in the next notebook is to create a prototype, save it, and use it to call a remote resource.  The reason this is possible is because different `model runners` simple expose the functions that you've created through the prototype.  \n",
    "\n",
    "Future versions of the library (within Acumos and CMLP alike) include stronger libraries for programatic access with the model primatives more generically. \n"
   ]
  },
  {
   "cell_type": "code",
   "execution_count": null,
   "metadata": {},
   "outputs": [],
   "source": [
    "## PART 1 - load models and dump to disk \n",
    "# https://pypi.org/project/acumos/#using-dataframes-with-scikit-learn\n",
    "\n",
    "# load our models\n",
    "with gzip.open(config[\"path\"][\"model_preproc\"], 'rb') as f:\n",
    "    etl = pickle.load(f)\n",
    "with gzip.open(config[\"path\"][\"model_classifier\"], 'rb') as f:\n",
    "    models = pickle.load(f)\n",
    "\n",
    "# here, an appropriate NamedTuple type is inferred from a pandas DataFrame\n",
    "print(list(etl[\"fn_input\"].columns))\n",
    "print(list(etl[\"fn_input\"].dtypes))\n",
    "\n",
    "ReviewDataFrame = create_namedtuple('ReviewDataFrame', \n",
    "    [('helpful', List[int]), (\"reviewText\", str), (\"summary\", str),\n",
    "     (\"unixReviewTime\", int), (\"categories\", List[str]), (\"description\", str)])\n",
    "# ClassifyDataFrame = create_dataframe('ReviewDataFrame', etl[\"fn_input\"])\n",
    "# print(ReviewDataFrame)\n",
    "ReviewPredictions = create_namedtuple(\n",
    "    'ReviewPredictions', [(\"probs\", List[float]), (\"classes\", List[str])])\n",
    "models[\"classes\"] = [\"{}\".format(c) for c in models[\"best\"].classes_]\n",
    "\n",
    "def classify_review(df: ReviewDataFrame) -> ReviewPredictions:\n",
    "    '''Returns an array of review classifications'''\n",
    "    X = pd.DataFrame([df], columns=ReviewDataFrame._fields)  # we need this because of custom types\n",
    "    # X = np.column_stack(df)\n",
    "    X_etl = etl[\"fn_preproc\"](etl, X)  # do classification, don't modify our model\n",
    "    X_res = models[\"best\"].predict_proba(X_etl)[0]\n",
    "    # print(models[\"best\"].classes_)\n",
    "    # print(X_res)\n",
    "    return ReviewPredictions(X_res, models[\"classes\"])\n",
    "\n",
    "model = Model(classify=classify_review)\n",
    "\n"
   ]
  },
  {
   "cell_type": "markdown",
   "metadata": {},
   "source": [
    "# Publishing and sharing\n",
    "Congratulations, you're ready to publish your model.  The most simple way to do this is to dump your model to an encapsulated or `wrapped` model file.  We can do this with a single call to the `dump` function."
   ]
  },
  {
   "cell_type": "code",
   "execution_count": null,
   "metadata": {},
   "outputs": [],
   "source": [
    "# create model so that we can run it locally\n",
    "session = AcumosSession( config[\"publish\"][\"url_model\"])\n",
    "path_dump = os.path.join('data', config[\"publish\"][\"name_model2\"])\n",
    "if os.path.exists(path_dump):\n",
    "    shutil.rmtree(path_dump)\n",
    "session.dump(model, config[\"publish\"][\"name_model2\"], 'data')  # creates ~/<name_publish>"
   ]
  },
  {
   "cell_type": "markdown",
   "metadata": {},
   "source": [
    "## Marketplace\n",
    "The **marketplace** is a way to share, discover, and facililiate reuse of models created by peers, vendors, etc.  Getting your model to the marketplace starts here, where with a few simple credentials you can wrap and push a model to a known sharing/federation service.\n",
    "\n",
    "## Logging In\n",
    "For the main workshop time, we've prepared a sandbox/test server to utilize.  \n",
    "\n",
    "1. First, click on one of these URLS (test: [http://acumosr-test.research.att.com](http://acumosr-test.research.att.com) or test2: [http://acumosr-test2.research.att.com](http://acumosr-test2.research.att.com)).  In normal operations, you could utilize a different Acumos instance like [http://acumos.research.att.com](http://acumos.research.att.com).\n",
    "\n",
    "2. Log into Acumos, click on \"sign in\" an then your user name (top right)\n",
    "\n",
    "3. Next, click on \"Account Settings\"\n",
    "\n",
    "4. Copy the `API Token` and your attuid in this format: `<ATTUID>:<TOKEN>`\n",
    "\n",
    "5. Update the [config.yaml](config.yaml) settings for `api_token`"
   ]
  },
  {
   "cell_type": "code",
   "execution_count": null,
   "metadata": {},
   "outputs": [],
   "source": [
    "## PART 2 - publish models\n",
    "os.environ['ACUMOS_TOKEN'] = config[\"publish\"][\"api_token\"] # visible in this process + all children\n",
    "\n",
    "# just grab the local scripts for requirements, look at the URL below for more examples\n",
    "#    of complicated requirements  - https://pypi.org/project/acumos/#declaring-requirements\n",
    "reqs = Requirements()\n",
    "\n",
    "# using the AcumosSession created earlier:\n",
    "time_start = time.time()\n",
    "session.push(model, config[\"publish\"][\"name_model2\"], reqs)\n",
    "print(\"Model push time... {:0.3f} sec\".format(time.time()-time_start))\n"
   ]
  },
  {
   "cell_type": "code",
   "execution_count": null,
   "metadata": {},
   "outputs": [],
   "source": []
  }
 ],
 "metadata": {
  "kernelspec": {
   "display_name": "Python 3",
   "language": "python",
   "name": "python3"
  },
  "language_info": {
   "codemirror_mode": {
    "name": "ipython",
    "version": 3
   },
   "file_extension": ".py",
   "mimetype": "text/x-python",
   "name": "python",
   "nbconvert_exporter": "python",
   "pygments_lexer": "ipython3",
   "version": "3.6.6"
  }
 },
 "nbformat": 4,
 "nbformat_minor": 2
}
