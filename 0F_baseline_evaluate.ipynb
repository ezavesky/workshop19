{
 "cells": [
  {
   "cell_type": "code",
   "execution_count": 1,
   "metadata": {},
   "outputs": [],
   "source": [
    "# Example of simple model load and evaluate\n",
    "\n",
    "# ===============LICENSE_START=======================================================\n",
    "# Apache-2.0\n",
    "# ===================================================================================\n",
    "# Copyright (C) 2019 AT&T Intellectual Property  All rights reserved.\n",
    "# ===================================================================================\n",
    "# This software file is distributed by AT&T\n",
    "# under the Apache License, Version 2.0 (the \"License\");\n",
    "# you may not use this file except in compliance with the License.\n",
    "# You may obtain a copy of the License at\n",
    "#\n",
    "# http://www.apache.org/licenses/LICENSE-2.0\n",
    "#\n",
    "# This file is distributed on an \"AS IS\" BASIS,\n",
    "# WITHOUT WARRANTIES OR CONDITIONS OF ANY KIND, either express or implied.\n",
    "# See the License for the specific language governing permissions and\n",
    "# limitations under the License.\n",
    "# ===============LICENSE_END=========================================================\n"
   ]
  },
  {
   "cell_type": "code",
   "execution_count": 2,
   "metadata": {},
   "outputs": [],
   "source": [
    "import numpy as np\n",
    "import pandas as pd\n",
    "import os,sys,shutil  # file checks\n",
    "import dill as pickle   # serialize functions and data as compressed binary \n",
    "import gzip  # compression \n",
    "import yaml   # configuration file\n",
    "import time  # time tracking\n",
    "\n",
    "from acumos.wrapped import load_model\n",
    "\n",
    "import util_call\n",
    "import util_review\n",
    "\n",
    "# load our configuration\n",
    "config_path = 'config.yaml'\n",
    "if not os.path.isfile(config_path):\n",
    "    print(\"Sorry, can't find the configuration file {}, aborting.\".format(config_path))\n",
    "    sys.exit(-1)\n",
    "config = yaml.safe_load(open(config_path))"
   ]
  },
  {
   "cell_type": "markdown",
   "metadata": {},
   "source": [
    "# Load Raw Data\n",
    "Load the raw test data and double-check the schema of the data with a random sample."
   ]
  },
  {
   "cell_type": "code",
   "execution_count": 3,
   "metadata": {},
   "outputs": [
    {
     "name": "stdout",
     "output_type": "stream",
     "text": [
      "Index(['helpful', 'reviewText', 'summary', 'unixReviewTime', 'categories',\n",
      "       'description'],\n",
      "      dtype='object')\n",
      "                                                             3990\n",
      "helpful                                                    [0, 1]\n",
      "reviewText      I've always eyed wrist rests in the stores and...\n",
      "summary         Didn't think I needed it, but now I can't live...\n",
      "unixReviewTime                                         1287446400\n",
      "categories      [office products, office & school supplies, de...\n",
      "description     The 3M Gel Wrist Rest helps to alleviate the a...\n"
     ]
    }
   ],
   "source": [
    "## PART 1 - load and start a local model runner \n",
    "# https://pypi.org/project/acumos/#using-dataframes-with-scikit-learn\n",
    "\n",
    "# read our larger datasets as binary files\n",
    "with gzip.open(config[\"path\"][\"etl\"], 'rb') as f:\n",
    "    df = pickle.load(f)\n",
    "print(df[\"X_test\"].columns)\n",
    "print(df[\"X_test\"].sample(1).transpose())"
   ]
  },
  {
   "cell_type": "markdown",
   "metadata": {},
   "source": [
    "# Check wrapped model\n",
    "Load the wrapped model and test it with a single (simulated sample)"
   ]
  },
  {
   "cell_type": "code",
   "execution_count": 4,
   "metadata": {},
   "outputs": [
    {
     "name": "stdout",
     "output_type": "stream",
     "text": [
      "<acumos.wrapped.WrappedModel object at 0x1a234a1898>\n"
     ]
    }
   ],
   "source": [
    "# load model from disk, see that it is a nicely \"wrapped\" model\n",
    "wrapped_model = load_model(os.path.join('data', config[\"publish\"][\"name_model2\"]))\n",
    "print(wrapped_model)"
   ]
  },
  {
   "cell_type": "code",
   "execution_count": 5,
   "metadata": {
    "scrolled": true
   },
   "outputs": [
    {
     "name": "stdout",
     "output_type": "stream",
     "text": [
      "[TEST] Samples to process 1...\n",
      "Evaluation time for 1 items, 0.220 sec\n"
     ]
    }
   ],
   "source": [
    "# actual evaluation code...\n",
    "\n",
    "# test 1 - take an example of our own sample (where we can see format from the model)\n",
    "data_in = [[[0,0], \"I've had better\", \"not much\", int(time.time()), [\"office products\"], \"rubbery item\"]]\n",
    "print(\"[TEST] Samples to process {}...\".format(len(data_in)))\n",
    "list_result = util_call.score_model(wrapped_model, data_in, False)\n"
   ]
  },
  {
   "cell_type": "markdown",
   "metadata": {},
   "source": [
    "# Check Test Data\n",
    "Now we'll quickly process a random subset of test data through the whole ETL and prediction.  Afterwards, we'll plot the performance on this subset."
   ]
  },
  {
   "cell_type": "code",
   "execution_count": 6,
   "metadata": {},
   "outputs": [
    {
     "name": "stdout",
     "output_type": "stream",
     "text": [
      "[EVALUATE] Samples to process 100...\n",
      "Evaluation time for 100 items, 15.446 sec\n"
     ]
    }
   ],
   "source": [
    "# test 2 - evaluate our test data\n",
    "\n",
    "# read our larger datasets as binary files\n",
    "with gzip.open(config[\"path\"][\"etl\"], 'rb') as f:\n",
    "    df = pickle.load(f)\n",
    "num_test = 100\n",
    "data_in = df[\"X_test\"].sample(num_test)\n",
    "df_label = df[\"y_test\"].loc[data_in.index]\n",
    "print(\"[EVALUATE] Samples to process {}...\".format(len(data_in)))\n",
    "list_result = util_call.score_model(wrapped_model, data_in.values.tolist(), False)\n",
    "df_predict = pd.DataFrame(list_result)\n"
   ]
  },
  {
   "cell_type": "code",
   "execution_count": 7,
   "metadata": {},
   "outputs": [
    {
     "data": {
      "image/png": "[encoded data removed]",
      "text/plain": [
       "<Figure size 432x288 with 1 Axes>"
      ]
     },
     "metadata": {
      "needs_background": "light"
     },
     "output_type": "display_data"
    },
    {
     "name": "stdout",
     "output_type": "stream",
     "text": [
      "rf AUC: 0.899 (100 samples)\n"
     ]
    }
   ],
   "source": [
    "# print(df_predict)\n",
    "# print(df_label)\n",
    "auc_class = util_review.draw_roc(None, df_label, df_predict.values, title=\"Local Review ROC\")\n",
    "print(\"{} AUC: {:0.3f} ({} samples)\".format(config[\"training\"][\"model_type\"], auc_class, num_test))\n"
   ]
  },
  {
   "cell_type": "code",
   "execution_count": null,
   "metadata": {},
   "outputs": [],
   "source": []
  }
 ],
 "metadata": {
  "kernelspec": {
   "display_name": "Python 3",
   "language": "python",
   "name": "python3"
  },
  "language_info": {
   "codemirror_mode": {
    "name": "ipython",
    "version": 3
   },
   "file_extension": ".py",
   "mimetype": "text/x-python",
   "name": "python",
   "nbconvert_exporter": "python",
   "pygments_lexer": "ipython3",
   "version": "3.6.6"
  }
 },
 "nbformat": 4,
 "nbformat_minor": 2
}
