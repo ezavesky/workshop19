{
 "cells": [
  {
   "cell_type": "code",
   "execution_count": 1,
   "metadata": {},
   "outputs": [],
   "source": [
    "# Example of simple model creation.\n",
    "\n",
    "# ===============LICENSE_START=======================================================\n",
    "# Apache-2.0\n",
    "# ===================================================================================\n",
    "# Copyright (C) 2019 AT&T Intellectual Property  All rights reserved.\n",
    "# ===================================================================================\n",
    "# This software file is distributed by AT&T\n",
    "# under the Apache License, Version 2.0 (the \"License\");\n",
    "# you may not use this file except in compliance with the License.\n",
    "# You may obtain a copy of the License at\n",
    "#\n",
    "# http://www.apache.org/licenses/LICENSE-2.0\n",
    "#\n",
    "# This file is distributed on an \"AS IS\" BASIS,\n",
    "# WITHOUT WARRANTIES OR CONDITIONS OF ANY KIND, either express or implied.\n",
    "# See the License for the specific language governing permissions and\n",
    "# limitations under the License.\n",
    "# ===============LICENSE_END=========================================================\n"
   ]
  },
  {
   "cell_type": "code",
   "execution_count": 2,
   "metadata": {},
   "outputs": [],
   "source": [
    "\n",
    "## PART 1\n",
    "# https://pypi.org/project/acumos/#using-dataframes-with-scikit-learn\n",
    "\n",
    "\n",
    "import numpy as np\n",
    "import pandas as pd\n",
    "from sklearn.datasets import load_iris\n",
    "from sklearn.ensemble import RandomForestClassifier\n",
    "\n",
    "from acumos.modeling import Model, List, Dict, create_namedtuple, create_dataframe\n",
    "from acumos.session import AcumosSession\n",
    "\n",
    "iris = load_iris()\n",
    "X = iris.data\n",
    "y = iris.target\n",
    "\n",
    "clf = RandomForestClassifier(n_estimators=100, random_state=0)\n",
    "clf.fit(X, y)\n",
    "\n",
    "# here, an appropriate NamedTuple type is inferred from a pandas DataFrame\n",
    "X_df = pd.DataFrame(X, columns=['sepal_length', 'sepal_width', 'petal_length', 'petal_width'])\n",
    "IrisDataFrame = create_dataframe('IrisDataFrame', X_df)\n",
    "\n",
    "# ==================================================================================\n",
    "# # or equivalently:\n",
    "#\n",
    "# IrisDataFrame = create_namedtuple('IrisDataFrame', [('sepal_length', List[float]),\n",
    "#                                                     ('sepal_width', List[float]),\n",
    "#                                                     ('petal_length', List[float]),\n",
    "#                                                     ('petal_width', List[float])])\n",
    "# ==================================================================================\n",
    "\n",
    "def classify_iris(df: IrisDataFrame) -> List[int]:\n",
    "    '''Returns an array of iris classifications'''\n",
    "    X = np.column_stack(df)\n",
    "    return clf.predict(X)\n",
    "\n",
    "model = Model(classify=classify_iris)\n",
    "\n"
   ]
  },
  {
   "cell_type": "code",
   "execution_count": 3,
   "metadata": {},
   "outputs": [
    {
     "name": "stdout",
     "output_type": "stream",
     "text": [
      "== Example of Input ==\n",
      "IrisDataFrame(sepal_length=5.1, sepal_width=3.5, petal_length=1.4, petal_width=0.2)\n",
      "== Example of Output ==\n",
      "ClassifyOut(value=0)\n",
      "== Testing I/O matches ==\n",
      "ClassifyOut(value=array([0]))\n",
      "True\n"
     ]
    }
   ],
   "source": [
    "## PART 2\n",
    "# https://pypi.org/project/acumos/#testing-models\n",
    "\n",
    "\n",
    "ClassifyIn = model.classify.input_type\n",
    "ClassifyOut = model.classify.output_type\n",
    "\n",
    "class_in = ClassifyIn(5.1, 3.5, 1.4, 0.2)\n",
    "print(\"== Example of Input ==\")\n",
    "print(class_in)  # AddIn(sepal_length=5.1, sepal_width=3.5, petal_length=1.4, petal_width=0.2)\n",
    "\n",
    "class_out = ClassifyOut(0)\n",
    "print(\"== Example of Output ==\")\n",
    "print(class_out)  # AddOut(value=0)\n",
    "\n",
    "print(\"== Testing I/O matches ==\")\n",
    "print(model.classify.wrapped(class_in))\n",
    "print(model.classify.wrapped(class_in) == class_out)  # True\n"
   ]
  },
  {
   "cell_type": "code",
   "execution_count": null,
   "metadata": {},
   "outputs": [],
   "source": []
  }
 ],
 "metadata": {
  "kernelspec": {
   "display_name": "Python 3",
   "language": "python",
   "name": "python3"
  },
  "language_info": {
   "codemirror_mode": {
    "name": "ipython",
    "version": 3
   },
   "file_extension": ".py",
   "mimetype": "text/x-python",
   "name": "python",
   "nbconvert_exporter": "python",
   "pygments_lexer": "ipython3",
   "version": "3.6.6"
  }
 },
 "nbformat": 4,
 "nbformat_minor": 2
}
